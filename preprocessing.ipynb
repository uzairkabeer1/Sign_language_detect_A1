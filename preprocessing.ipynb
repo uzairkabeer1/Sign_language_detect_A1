{
 "cells": [
  {
   "cell_type": "code",
   "execution_count": null,
   "metadata": {
    "collapsed": true
   },
   "outputs": [],
   "source": [
    "import cv2\n",
    "import mediapipe as mp\n",
    "import pandas as pd\n",
    "import os\n",
    "import matplotlib.pyplot as plt"
   ]
  },
  {
   "cell_type": "code",
   "execution_count": null,
   "outputs": [],
   "source": [
    "mp_drawing = mp.solutions.drawing_utils\n",
    "mp_drawing_styles = mp.solutions.drawing_styles"
   ],
   "metadata": {
    "collapsed": false
   }
  },
  {
   "cell_type": "code",
   "execution_count": null,
   "outputs": [],
   "source": [
    "mp_hands = mp.solutions.hands\n",
    "hands = mp_hands.Hands(static_image_mode=True, min_detection_confidence=0.3)"
   ],
   "metadata": {
    "collapsed": false
   }
  },
  {
   "cell_type": "code",
   "execution_count": null,
   "outputs": [],
   "source": [
    "image_dir = 'C:/Sign Language Detection/Module 1 (sign to text)/dataset/Train_Alphabet'"
   ],
   "metadata": {
    "collapsed": false
   }
  },
  {
   "cell_type": "code",
   "execution_count": null,
   "outputs": [],
   "source": [
    "data = []\n",
    "labels = []\n",
    "b = []\n",
    "for label in os.listdir(image_dir):\n",
    "    sub_dir = os.path.join(image_dir, label)\n",
    "\n",
    "    if os.path.isdir(sub_dir):\n",
    "        for filename in os.listdir(sub_dir)[:250]:\n",
    "            data_aux = []\n",
    "            if filename.endswith('.jpg') or filename.endswith('.png'):\n",
    "                image_path = os.path.join(sub_dir, filename)\n",
    "                image = cv2.imread(image_path)\n",
    "                image = cv2.cvtColor(image, cv2.COLOR_BGR2RGB)\n",
    "                result = hands.process(image)\n",
    "\n",
    "                if result.multi_hand_landmarks:\n",
    "                    for hand_landmarks in result.multi_hand_landmarks:\n",
    "                        for i in range(len(hand_landmarks.landmark)):\n",
    "                            x = hand_landmarks.landmark[i].x\n",
    "                            y = hand_landmarks.landmark[i].y\n",
    "                            data_aux.append(x)\n",
    "                            data_aux.append(y)\n",
    "\n",
    "                        b = data_aux.copy()\n",
    "\n",
    "                        data.append(data_aux)\n",
    "                        labels.append(label)\n"
   ],
   "metadata": {
    "collapsed": false
   }
  },
  {
   "cell_type": "code",
   "execution_count": null,
   "outputs": [],
   "source": [
    "import pickle\n",
    "f = open('data.pickel','wb')\n",
    "pickle.dump({'data':data, 'labels':labels}, f)\n",
    "f.close()"
   ],
   "metadata": {
    "collapsed": false
   }
  }
 ],
 "metadata": {
  "kernelspec": {
   "display_name": "Python 3",
   "language": "python",
   "name": "python3"
  },
  "language_info": {
   "codemirror_mode": {
    "name": "ipython",
    "version": 2
   },
   "file_extension": ".py",
   "mimetype": "text/x-python",
   "name": "python",
   "nbconvert_exporter": "python",
   "pygments_lexer": "ipython2",
   "version": "2.7.6"
  }
 },
 "nbformat": 4,
 "nbformat_minor": 0
}
